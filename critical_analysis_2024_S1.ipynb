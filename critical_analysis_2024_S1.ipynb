{
  "cells": [
    {
      "cell_type": "markdown",
      "metadata": {
        "id": "hqfK-B4Ji42K"
      },
      "source": [
        "# Mobile Price Dataset - COMP2200 DATA SCIENCE \n",
        "\n",
        "Name: Dang Ha Nguyen (Janice) Nguyen\n",
        "\n",
        "ID: 47856491\n",
        "\n",
        "Repository: [GitHub Repository](https://github.com/JaniceNguyen/COMP2200_CriticalAnalysis_47856491)\n",
        "\n",
        "\n",
        "## AIM:\n",
        "In this Project, on the basis of the mobile Specification like Battery power, 3G enabled , wifi ,Bluetooth, Ram etc, we want to predict the price range of the mobile.\n",
        "\n",
        "## DESCRIPTION:\n",
        "\n",
        "Input variables:\n",
        "\n",
        "* id: ID\n",
        "* battery_power: Total energy a battery can store in one time measured in mAh\n",
        "* blue: Has bluetooth or not\n",
        "* clock_speed: speed at which microprocessor executes instructions\n",
        "* dual_sim: Has dual sim support or not\n",
        "* fc: Front Camera mega pixels\n",
        "* four_g: Has 4G or not\n",
        "* int_memory: Internal Memory in Gigabytes\n",
        "* m_dep: Mobile Depth in cm\n",
        "* mobile_wt: Weight of mobile phone\n",
        "* n_cores: Number of cores of processor\n",
        "* pc: Primary Camera mega pixels\n",
        "* px_height: Pixel Resolution Height\n",
        "* px_width: Pixel Resolution Width\n",
        "* ram: Random Access Memory in Megabytes\n",
        "* sc_h: Screen Height of mobile in cm\n",
        "* sc_w: Screen Width of mobile in cm\n",
        "* talk_time: longest time that a single battery charge will last when you are\n",
        "* three_g: Has 3G or not\n",
        "* touch_screen: Has touch screen or not\n",
        "* wifi: Has wifi or not\n",
        "\n",
        "Output variables:\n",
        "\n",
        "* price_range: the target value we want to estimate. There are four possible values: 0,1,2,3.\n",
        "\n",
        "### Note that the price range has only four possible values. Thus, this is a classification problem"
      ]
    },
    {
      "cell_type": "markdown",
      "metadata": {
        "id": "UrxD3Dzai42L"
      },
      "source": [
        "## Library"
      ]
    },
    {
      "cell_type": "code",
      "execution_count": 185,
      "metadata": {
        "id": "8JzDbr_6i42L"
      },
      "outputs": [],
      "source": [
        "import numpy as np\n",
        "import pandas as pd\n",
        "import seaborn as sns\n",
        "from matplotlib import pyplot as plt\n",
        "\n",
        "from sklearn.preprocessing import StandardScaler\n",
        "from sklearn.model_selection import train_test_split\n",
        "from sklearn.metrics import classification_report, confusion_matrix, ConfusionMatrixDisplay, mean_squared_error\n",
        "from sklearn.neural_network import MLPClassifier\n",
        "from sklearn.tree import DecisionTreeClassifier\n",
        "\n",
        "import warnings\n",
        "warnings.filterwarnings(\"ignore\")"
      ]
    },
    {
      "cell_type": "markdown",
      "metadata": {
        "id": "-pSVA9oDi42L"
      },
      "source": [
        "## 1. Data loading\n",
        "* We print the table head of the source data to check what kind of feature data has been included.\n",
        "* Note that column 'index' is not regarded as a meaningful feature here."
      ]
    },
    {
      "cell_type": "code",
      "execution_count": 186,
      "metadata": {
        "colab": {
          "base_uri": "https://localhost:8080/",
          "height": 253
        },
        "id": "2LKtHi4Ji42L",
        "outputId": "4eab7fc2-7def-4654-c9dd-90e4e0f36353"
      },
      "outputs": [
        {
          "name": "stdout",
          "output_type": "stream",
          "text": [
            "data shape is :  (2000, 22)\n"
          ]
        },
        {
          "data": {
            "text/html": [
              "<div>\n",
              "<style scoped>\n",
              "    .dataframe tbody tr th:only-of-type {\n",
              "        vertical-align: middle;\n",
              "    }\n",
              "\n",
              "    .dataframe tbody tr th {\n",
              "        vertical-align: top;\n",
              "    }\n",
              "\n",
              "    .dataframe thead th {\n",
              "        text-align: right;\n",
              "    }\n",
              "</style>\n",
              "<table border=\"1\" class=\"dataframe\">\n",
              "  <thead>\n",
              "    <tr style=\"text-align: right;\">\n",
              "      <th></th>\n",
              "      <th>index</th>\n",
              "      <th>battery_power</th>\n",
              "      <th>blue</th>\n",
              "      <th>clock_speed</th>\n",
              "      <th>dual_sim</th>\n",
              "      <th>fc</th>\n",
              "      <th>four_g</th>\n",
              "      <th>int_memory</th>\n",
              "      <th>m_dep</th>\n",
              "      <th>mobile_wt</th>\n",
              "      <th>...</th>\n",
              "      <th>px_height</th>\n",
              "      <th>px_width</th>\n",
              "      <th>ram</th>\n",
              "      <th>sc_h</th>\n",
              "      <th>sc_w</th>\n",
              "      <th>talk_time</th>\n",
              "      <th>three_g</th>\n",
              "      <th>touch_screen</th>\n",
              "      <th>wifi</th>\n",
              "      <th>price_range</th>\n",
              "    </tr>\n",
              "  </thead>\n",
              "  <tbody>\n",
              "    <tr>\n",
              "      <th>0</th>\n",
              "      <td>0</td>\n",
              "      <td>842</td>\n",
              "      <td>0</td>\n",
              "      <td>2.2</td>\n",
              "      <td>0</td>\n",
              "      <td>1</td>\n",
              "      <td>0</td>\n",
              "      <td>7</td>\n",
              "      <td>0.6</td>\n",
              "      <td>188</td>\n",
              "      <td>...</td>\n",
              "      <td>20</td>\n",
              "      <td>756</td>\n",
              "      <td>2549</td>\n",
              "      <td>9</td>\n",
              "      <td>7</td>\n",
              "      <td>19</td>\n",
              "      <td>0</td>\n",
              "      <td>0</td>\n",
              "      <td>1</td>\n",
              "      <td>1</td>\n",
              "    </tr>\n",
              "    <tr>\n",
              "      <th>1</th>\n",
              "      <td>1</td>\n",
              "      <td>1021</td>\n",
              "      <td>1</td>\n",
              "      <td>0.5</td>\n",
              "      <td>1</td>\n",
              "      <td>0</td>\n",
              "      <td>1</td>\n",
              "      <td>53</td>\n",
              "      <td>0.7</td>\n",
              "      <td>136</td>\n",
              "      <td>...</td>\n",
              "      <td>905</td>\n",
              "      <td>1988</td>\n",
              "      <td>2631</td>\n",
              "      <td>17</td>\n",
              "      <td>3</td>\n",
              "      <td>7</td>\n",
              "      <td>1</td>\n",
              "      <td>1</td>\n",
              "      <td>0</td>\n",
              "      <td>2</td>\n",
              "    </tr>\n",
              "    <tr>\n",
              "      <th>2</th>\n",
              "      <td>2</td>\n",
              "      <td>563</td>\n",
              "      <td>1</td>\n",
              "      <td>0.5</td>\n",
              "      <td>1</td>\n",
              "      <td>2</td>\n",
              "      <td>1</td>\n",
              "      <td>41</td>\n",
              "      <td>0.9</td>\n",
              "      <td>145</td>\n",
              "      <td>...</td>\n",
              "      <td>1263</td>\n",
              "      <td>1716</td>\n",
              "      <td>2603</td>\n",
              "      <td>11</td>\n",
              "      <td>2</td>\n",
              "      <td>9</td>\n",
              "      <td>1</td>\n",
              "      <td>1</td>\n",
              "      <td>0</td>\n",
              "      <td>2</td>\n",
              "    </tr>\n",
              "    <tr>\n",
              "      <th>3</th>\n",
              "      <td>3</td>\n",
              "      <td>615</td>\n",
              "      <td>1</td>\n",
              "      <td>2.5</td>\n",
              "      <td>0</td>\n",
              "      <td>0</td>\n",
              "      <td>0</td>\n",
              "      <td>10</td>\n",
              "      <td>0.8</td>\n",
              "      <td>131</td>\n",
              "      <td>...</td>\n",
              "      <td>1216</td>\n",
              "      <td>1786</td>\n",
              "      <td>2769</td>\n",
              "      <td>16</td>\n",
              "      <td>8</td>\n",
              "      <td>11</td>\n",
              "      <td>1</td>\n",
              "      <td>0</td>\n",
              "      <td>0</td>\n",
              "      <td>2</td>\n",
              "    </tr>\n",
              "    <tr>\n",
              "      <th>4</th>\n",
              "      <td>4</td>\n",
              "      <td>1821</td>\n",
              "      <td>1</td>\n",
              "      <td>1.2</td>\n",
              "      <td>0</td>\n",
              "      <td>13</td>\n",
              "      <td>1</td>\n",
              "      <td>44</td>\n",
              "      <td>0.6</td>\n",
              "      <td>141</td>\n",
              "      <td>...</td>\n",
              "      <td>1208</td>\n",
              "      <td>1212</td>\n",
              "      <td>1411</td>\n",
              "      <td>8</td>\n",
              "      <td>2</td>\n",
              "      <td>15</td>\n",
              "      <td>1</td>\n",
              "      <td>1</td>\n",
              "      <td>0</td>\n",
              "      <td>1</td>\n",
              "    </tr>\n",
              "  </tbody>\n",
              "</table>\n",
              "<p>5 rows × 22 columns</p>\n",
              "</div>"
            ],
            "text/plain": [
              "   index  battery_power  blue  clock_speed  dual_sim  fc  four_g  int_memory  \\\n",
              "0      0            842     0          2.2         0   1       0           7   \n",
              "1      1           1021     1          0.5         1   0       1          53   \n",
              "2      2            563     1          0.5         1   2       1          41   \n",
              "3      3            615     1          2.5         0   0       0          10   \n",
              "4      4           1821     1          1.2         0  13       1          44   \n",
              "\n",
              "   m_dep  mobile_wt  ...  px_height  px_width   ram  sc_h  sc_w  talk_time  \\\n",
              "0    0.6        188  ...         20       756  2549     9     7         19   \n",
              "1    0.7        136  ...        905      1988  2631    17     3          7   \n",
              "2    0.9        145  ...       1263      1716  2603    11     2          9   \n",
              "3    0.8        131  ...       1216      1786  2769    16     8         11   \n",
              "4    0.6        141  ...       1208      1212  1411     8     2         15   \n",
              "\n",
              "   three_g  touch_screen  wifi  price_range  \n",
              "0        0             0     1            1  \n",
              "1        1             1     0            2  \n",
              "2        1             1     0            2  \n",
              "3        1             0     0            2  \n",
              "4        1             1     0            1  \n",
              "\n",
              "[5 rows x 22 columns]"
            ]
          },
          "execution_count": 186,
          "metadata": {},
          "output_type": "execute_result"
        }
      ],
      "source": [
        "data = pd.read_csv(\"data.csv\").reset_index()\n",
        "print(\"data shape is : \", data.shape)\n",
        "data.head()"
      ]
    },
    {
      "cell_type": "markdown",
      "metadata": {
        "id": "mMiKy0oflkrS"
      },
      "source": [
        "* It shows that there are 2,000 samples and each sample has 22 features ( including the target feature 'price_range' )"
      ]
    },
    {
      "cell_type": "markdown",
      "metadata": {
        "id": "GGC1W21NjPTk"
      },
      "source": [
        "* We further observe the statistical features of the source data by showing the mean, std, min, max, etc., statistical information as below"
      ]
    },
    {
      "cell_type": "code",
      "execution_count": 187,
      "metadata": {
        "colab": {
          "base_uri": "https://localhost:8080/",
          "height": 349
        },
        "id": "0sRW9C9gi42M",
        "outputId": "48bdea04-5cab-422e-aa14-8f6a2c4fc31a"
      },
      "outputs": [
        {
          "data": {
            "text/html": [
              "<div>\n",
              "<style scoped>\n",
              "    .dataframe tbody tr th:only-of-type {\n",
              "        vertical-align: middle;\n",
              "    }\n",
              "\n",
              "    .dataframe tbody tr th {\n",
              "        vertical-align: top;\n",
              "    }\n",
              "\n",
              "    .dataframe thead th {\n",
              "        text-align: right;\n",
              "    }\n",
              "</style>\n",
              "<table border=\"1\" class=\"dataframe\">\n",
              "  <thead>\n",
              "    <tr style=\"text-align: right;\">\n",
              "      <th></th>\n",
              "      <th>index</th>\n",
              "      <th>battery_power</th>\n",
              "      <th>blue</th>\n",
              "      <th>clock_speed</th>\n",
              "      <th>dual_sim</th>\n",
              "      <th>fc</th>\n",
              "      <th>four_g</th>\n",
              "      <th>int_memory</th>\n",
              "      <th>m_dep</th>\n",
              "      <th>mobile_wt</th>\n",
              "      <th>...</th>\n",
              "      <th>px_height</th>\n",
              "      <th>px_width</th>\n",
              "      <th>ram</th>\n",
              "      <th>sc_h</th>\n",
              "      <th>sc_w</th>\n",
              "      <th>talk_time</th>\n",
              "      <th>three_g</th>\n",
              "      <th>touch_screen</th>\n",
              "      <th>wifi</th>\n",
              "      <th>price_range</th>\n",
              "    </tr>\n",
              "  </thead>\n",
              "  <tbody>\n",
              "    <tr>\n",
              "      <th>count</th>\n",
              "      <td>2000.000000</td>\n",
              "      <td>2000.000000</td>\n",
              "      <td>2000.0000</td>\n",
              "      <td>2000.000000</td>\n",
              "      <td>2000.000000</td>\n",
              "      <td>2000.000000</td>\n",
              "      <td>2000.000000</td>\n",
              "      <td>2000.000000</td>\n",
              "      <td>2000.000000</td>\n",
              "      <td>2000.000000</td>\n",
              "      <td>...</td>\n",
              "      <td>2000.000000</td>\n",
              "      <td>2000.000000</td>\n",
              "      <td>2000.000000</td>\n",
              "      <td>2000.000000</td>\n",
              "      <td>2000.000000</td>\n",
              "      <td>2000.000000</td>\n",
              "      <td>2000.000000</td>\n",
              "      <td>2000.000000</td>\n",
              "      <td>2000.000000</td>\n",
              "      <td>2000.000000</td>\n",
              "    </tr>\n",
              "    <tr>\n",
              "      <th>mean</th>\n",
              "      <td>999.500000</td>\n",
              "      <td>1238.518500</td>\n",
              "      <td>0.4950</td>\n",
              "      <td>1.522250</td>\n",
              "      <td>0.509500</td>\n",
              "      <td>4.309500</td>\n",
              "      <td>0.521500</td>\n",
              "      <td>32.046500</td>\n",
              "      <td>0.505250</td>\n",
              "      <td>140.249000</td>\n",
              "      <td>...</td>\n",
              "      <td>645.108000</td>\n",
              "      <td>1251.515500</td>\n",
              "      <td>2124.213000</td>\n",
              "      <td>12.306500</td>\n",
              "      <td>5.767000</td>\n",
              "      <td>11.011000</td>\n",
              "      <td>0.761500</td>\n",
              "      <td>0.503000</td>\n",
              "      <td>0.507000</td>\n",
              "      <td>1.500000</td>\n",
              "    </tr>\n",
              "    <tr>\n",
              "      <th>std</th>\n",
              "      <td>577.494589</td>\n",
              "      <td>439.418206</td>\n",
              "      <td>0.5001</td>\n",
              "      <td>0.816004</td>\n",
              "      <td>0.500035</td>\n",
              "      <td>4.341444</td>\n",
              "      <td>0.499662</td>\n",
              "      <td>18.145715</td>\n",
              "      <td>0.314272</td>\n",
              "      <td>35.399655</td>\n",
              "      <td>...</td>\n",
              "      <td>443.780811</td>\n",
              "      <td>432.199447</td>\n",
              "      <td>1084.732044</td>\n",
              "      <td>4.213245</td>\n",
              "      <td>4.356398</td>\n",
              "      <td>5.463955</td>\n",
              "      <td>0.426273</td>\n",
              "      <td>0.500116</td>\n",
              "      <td>0.500076</td>\n",
              "      <td>1.118314</td>\n",
              "    </tr>\n",
              "    <tr>\n",
              "      <th>min</th>\n",
              "      <td>0.000000</td>\n",
              "      <td>501.000000</td>\n",
              "      <td>0.0000</td>\n",
              "      <td>0.500000</td>\n",
              "      <td>0.000000</td>\n",
              "      <td>0.000000</td>\n",
              "      <td>0.000000</td>\n",
              "      <td>2.000000</td>\n",
              "      <td>0.100000</td>\n",
              "      <td>80.000000</td>\n",
              "      <td>...</td>\n",
              "      <td>0.000000</td>\n",
              "      <td>500.000000</td>\n",
              "      <td>256.000000</td>\n",
              "      <td>5.000000</td>\n",
              "      <td>0.000000</td>\n",
              "      <td>2.000000</td>\n",
              "      <td>0.000000</td>\n",
              "      <td>0.000000</td>\n",
              "      <td>0.000000</td>\n",
              "      <td>0.000000</td>\n",
              "    </tr>\n",
              "    <tr>\n",
              "      <th>25%</th>\n",
              "      <td>499.750000</td>\n",
              "      <td>851.750000</td>\n",
              "      <td>0.0000</td>\n",
              "      <td>0.700000</td>\n",
              "      <td>0.000000</td>\n",
              "      <td>1.000000</td>\n",
              "      <td>0.000000</td>\n",
              "      <td>16.000000</td>\n",
              "      <td>0.200000</td>\n",
              "      <td>109.000000</td>\n",
              "      <td>...</td>\n",
              "      <td>282.750000</td>\n",
              "      <td>874.750000</td>\n",
              "      <td>1207.500000</td>\n",
              "      <td>9.000000</td>\n",
              "      <td>2.000000</td>\n",
              "      <td>6.000000</td>\n",
              "      <td>1.000000</td>\n",
              "      <td>0.000000</td>\n",
              "      <td>0.000000</td>\n",
              "      <td>0.750000</td>\n",
              "    </tr>\n",
              "    <tr>\n",
              "      <th>50%</th>\n",
              "      <td>999.500000</td>\n",
              "      <td>1226.000000</td>\n",
              "      <td>0.0000</td>\n",
              "      <td>1.500000</td>\n",
              "      <td>1.000000</td>\n",
              "      <td>3.000000</td>\n",
              "      <td>1.000000</td>\n",
              "      <td>32.000000</td>\n",
              "      <td>0.500000</td>\n",
              "      <td>141.000000</td>\n",
              "      <td>...</td>\n",
              "      <td>564.000000</td>\n",
              "      <td>1247.000000</td>\n",
              "      <td>2146.500000</td>\n",
              "      <td>12.000000</td>\n",
              "      <td>5.000000</td>\n",
              "      <td>11.000000</td>\n",
              "      <td>1.000000</td>\n",
              "      <td>1.000000</td>\n",
              "      <td>1.000000</td>\n",
              "      <td>1.500000</td>\n",
              "    </tr>\n",
              "    <tr>\n",
              "      <th>75%</th>\n",
              "      <td>1499.250000</td>\n",
              "      <td>1615.250000</td>\n",
              "      <td>1.0000</td>\n",
              "      <td>2.200000</td>\n",
              "      <td>1.000000</td>\n",
              "      <td>7.000000</td>\n",
              "      <td>1.000000</td>\n",
              "      <td>48.000000</td>\n",
              "      <td>0.800000</td>\n",
              "      <td>170.000000</td>\n",
              "      <td>...</td>\n",
              "      <td>947.250000</td>\n",
              "      <td>1633.000000</td>\n",
              "      <td>3064.500000</td>\n",
              "      <td>16.000000</td>\n",
              "      <td>9.000000</td>\n",
              "      <td>16.000000</td>\n",
              "      <td>1.000000</td>\n",
              "      <td>1.000000</td>\n",
              "      <td>1.000000</td>\n",
              "      <td>2.250000</td>\n",
              "    </tr>\n",
              "    <tr>\n",
              "      <th>max</th>\n",
              "      <td>1999.000000</td>\n",
              "      <td>1998.000000</td>\n",
              "      <td>1.0000</td>\n",
              "      <td>3.000000</td>\n",
              "      <td>1.000000</td>\n",
              "      <td>19.000000</td>\n",
              "      <td>1.000000</td>\n",
              "      <td>64.000000</td>\n",
              "      <td>5.600000</td>\n",
              "      <td>200.000000</td>\n",
              "      <td>...</td>\n",
              "      <td>1960.000000</td>\n",
              "      <td>1998.000000</td>\n",
              "      <td>3998.000000</td>\n",
              "      <td>19.000000</td>\n",
              "      <td>18.000000</td>\n",
              "      <td>20.000000</td>\n",
              "      <td>1.000000</td>\n",
              "      <td>1.000000</td>\n",
              "      <td>1.000000</td>\n",
              "      <td>3.000000</td>\n",
              "    </tr>\n",
              "  </tbody>\n",
              "</table>\n",
              "<p>8 rows × 22 columns</p>\n",
              "</div>"
            ],
            "text/plain": [
              "             index  battery_power       blue  clock_speed     dual_sim  \\\n",
              "count  2000.000000    2000.000000  2000.0000  2000.000000  2000.000000   \n",
              "mean    999.500000    1238.518500     0.4950     1.522250     0.509500   \n",
              "std     577.494589     439.418206     0.5001     0.816004     0.500035   \n",
              "min       0.000000     501.000000     0.0000     0.500000     0.000000   \n",
              "25%     499.750000     851.750000     0.0000     0.700000     0.000000   \n",
              "50%     999.500000    1226.000000     0.0000     1.500000     1.000000   \n",
              "75%    1499.250000    1615.250000     1.0000     2.200000     1.000000   \n",
              "max    1999.000000    1998.000000     1.0000     3.000000     1.000000   \n",
              "\n",
              "                fc       four_g   int_memory        m_dep    mobile_wt  ...  \\\n",
              "count  2000.000000  2000.000000  2000.000000  2000.000000  2000.000000  ...   \n",
              "mean      4.309500     0.521500    32.046500     0.505250   140.249000  ...   \n",
              "std       4.341444     0.499662    18.145715     0.314272    35.399655  ...   \n",
              "min       0.000000     0.000000     2.000000     0.100000    80.000000  ...   \n",
              "25%       1.000000     0.000000    16.000000     0.200000   109.000000  ...   \n",
              "50%       3.000000     1.000000    32.000000     0.500000   141.000000  ...   \n",
              "75%       7.000000     1.000000    48.000000     0.800000   170.000000  ...   \n",
              "max      19.000000     1.000000    64.000000     5.600000   200.000000  ...   \n",
              "\n",
              "         px_height     px_width          ram         sc_h         sc_w  \\\n",
              "count  2000.000000  2000.000000  2000.000000  2000.000000  2000.000000   \n",
              "mean    645.108000  1251.515500  2124.213000    12.306500     5.767000   \n",
              "std     443.780811   432.199447  1084.732044     4.213245     4.356398   \n",
              "min       0.000000   500.000000   256.000000     5.000000     0.000000   \n",
              "25%     282.750000   874.750000  1207.500000     9.000000     2.000000   \n",
              "50%     564.000000  1247.000000  2146.500000    12.000000     5.000000   \n",
              "75%     947.250000  1633.000000  3064.500000    16.000000     9.000000   \n",
              "max    1960.000000  1998.000000  3998.000000    19.000000    18.000000   \n",
              "\n",
              "         talk_time      three_g  touch_screen         wifi  price_range  \n",
              "count  2000.000000  2000.000000   2000.000000  2000.000000  2000.000000  \n",
              "mean     11.011000     0.761500      0.503000     0.507000     1.500000  \n",
              "std       5.463955     0.426273      0.500116     0.500076     1.118314  \n",
              "min       2.000000     0.000000      0.000000     0.000000     0.000000  \n",
              "25%       6.000000     1.000000      0.000000     0.000000     0.750000  \n",
              "50%      11.000000     1.000000      1.000000     1.000000     1.500000  \n",
              "75%      16.000000     1.000000      1.000000     1.000000     2.250000  \n",
              "max      20.000000     1.000000      1.000000     1.000000     3.000000  \n",
              "\n",
              "[8 rows x 22 columns]"
            ]
          },
          "execution_count": 187,
          "metadata": {},
          "output_type": "execute_result"
        }
      ],
      "source": [
        "data.describe()"
      ]
    },
    {
      "cell_type": "markdown",
      "metadata": {
        "id": "T95sIyawi42M"
      },
      "source": [
        "* We also plot the feature distribution to observe the value distribution of each feature."
      ]
    },
    {
      "cell_type": "code",
      "execution_count": 188,
      "metadata": {
        "colab": {
          "base_uri": "https://localhost:8080/",
          "height": 1000
        },
        "id": "9V3J2TGfi42M",
        "outputId": "56770b2e-c80c-4297-b7f0-69e42fb522c1"
      },
      "outputs": [
        {
          "data": {
            "image/png": "[encoded data removed]",
            "text/plain": [
              "<Figure size 1600x1200 with 25 Axes>"
            ]
          },
          "metadata": {},
          "output_type": "display_data"
        }
      ],
      "source": [
        "data.hist(bins=20 ,figsize=(16,12), color = 'Green')\n",
        "plt.show()"
      ]
    },
    {
      "cell_type": "markdown",
      "metadata": {
        "id": "jixSZi84i42M"
      },
      "source": [
        "* In particular, we plot the distribution of the target variable: Price range"
      ]
    },
    {
      "cell_type": "code",
      "execution_count": 189,
      "metadata": {
        "colab": {
          "base_uri": "https://localhost:8080/",
          "height": 558
        },
        "id": "ejSyniuIi42M",
        "outputId": "958b3965-2170-4827-b898-c8085d7c10fd"
      },
      "outputs": [
        {
          "data": {
            "image/png": "[encoded data removed]",
            "text/plain": [
              "<Figure size 800x600 with 1 Axes>"
            ]
          },
          "metadata": {},
          "output_type": "display_data"
        }
      ],
      "source": [
        "sns.set_theme(style='whitegrid')\n",
        "colors = ['#FFC0CB', '#00FF00', '#00BFFF', '#F62217']\n",
        "\n",
        "plt.figure(figsize=(8, 6))\n",
        "sns.countplot(x='price_range', data=data, palette=colors)\n",
        "\n",
        "plt.title('Distribution of Price Range', fontsize=16)\n",
        "plt.xlabel('Price Range', fontsize=12)\n",
        "plt.ylabel('Count', fontsize=12)\n",
        "\n",
        "# Add value labels on top of each bar\n",
        "for p in plt.gca().patches:\n",
        "    plt.gca().text(p.get_x() + p.get_width()/2., p.get_height() + 5, \n",
        "                   int(p.get_height()), fontsize=12, ha='center')\n",
        "\n",
        "plt.show()"
      ]
    },
    {
      "cell_type": "markdown",
      "metadata": {
        "id": "H7gFlErak8of"
      },
      "source": [
        "* There are four possible values of the price range with 0, 1, 2 and 3. From the distribution, we can find that the label idstribution is very balanced and even among four possible labels."
      ]
    },
    {
      "cell_type": "markdown",
      "metadata": {
        "id": "pwBRJXFfqfwe"
      },
      "source": [
        "## Feature Selection"
      ]
    },
    {
      "cell_type": "markdown",
      "metadata": {
        "id": "Z_l0rP5oqtsQ"
      },
      "source": [
        "We first study the correlation between the mobile price range and other features."
      ]
    },
    {
      "cell_type": "code",
      "execution_count": 190,
      "metadata": {
        "colab": {
          "base_uri": "https://localhost:8080/"
        },
        "id": "ivimHoXaqjuT",
        "outputId": "47845a0d-7840-4992-9864-ca9e189f8a1c"
      },
      "outputs": [
        {
          "name": "stdout",
          "output_type": "stream",
          "text": [
            "battery_power    0.200723\n",
            "blue             0.020573\n",
            "clock_speed     -0.006606\n",
            "dual_sim         0.017444\n",
            "fc               0.021998\n",
            "four_g           0.014772\n",
            "int_memory       0.044435\n",
            "m_dep            0.001495\n",
            "mobile_wt       -0.030302\n",
            "n_cores          0.004399\n",
            "pc               0.033599\n",
            "px_height        0.148858\n",
            "px_width         0.165818\n",
            "ram              0.917046\n",
            "sc_h             0.022986\n",
            "sc_w             0.038711\n",
            "talk_time        0.021859\n",
            "three_g          0.023611\n",
            "touch_screen    -0.030411\n",
            "wifi             0.018785\n",
            "price_range      1.000000\n",
            "Name: price_range, dtype: float64\n"
          ]
        }
      ],
      "source": [
        "data = data.drop(columns=['index'])\n",
        "# We drop the 'index' column here since it's meaningless for prediction\n",
        "correlation_matrix = data.corr()\n",
        "print(correlation_matrix['price_range'])"
      ]
    },
    {
      "cell_type": "markdown",
      "metadata": {
        "id": "4N6qH8-5rSUB"
      },
      "source": [
        "Then we remove irrelevant features."
      ]
    },
    {
      "cell_type": "code",
      "execution_count": 191,
      "metadata": {
        "id": "LdE5QDEOrdSO"
      },
      "outputs": [],
      "source": [
        "data = data.drop(columns=['clock_speed','mobile_wt','touch_screen'])"
      ]
    },
    {
      "cell_type": "code",
      "execution_count": 192,
      "metadata": {
        "colab": {
          "base_uri": "https://localhost:8080/",
          "height": 206
        },
        "id": "MVMQ8AJyr6N4",
        "outputId": "eac78292-c49d-4064-e759-52d1aa9c1685"
      },
      "outputs": [
        {
          "data": {
            "text/html": [
              "<div>\n",
              "<style scoped>\n",
              "    .dataframe tbody tr th:only-of-type {\n",
              "        vertical-align: middle;\n",
              "    }\n",
              "\n",
              "    .dataframe tbody tr th {\n",
              "        vertical-align: top;\n",
              "    }\n",
              "\n",
              "    .dataframe thead th {\n",
              "        text-align: right;\n",
              "    }\n",
              "</style>\n",
              "<table border=\"1\" class=\"dataframe\">\n",
              "  <thead>\n",
              "    <tr style=\"text-align: right;\">\n",
              "      <th></th>\n",
              "      <th>battery_power</th>\n",
              "      <th>blue</th>\n",
              "      <th>dual_sim</th>\n",
              "      <th>fc</th>\n",
              "      <th>four_g</th>\n",
              "      <th>int_memory</th>\n",
              "      <th>m_dep</th>\n",
              "      <th>n_cores</th>\n",
              "      <th>pc</th>\n",
              "      <th>px_height</th>\n",
              "      <th>px_width</th>\n",
              "      <th>ram</th>\n",
              "      <th>sc_h</th>\n",
              "      <th>sc_w</th>\n",
              "      <th>talk_time</th>\n",
              "      <th>three_g</th>\n",
              "      <th>wifi</th>\n",
              "      <th>price_range</th>\n",
              "    </tr>\n",
              "  </thead>\n",
              "  <tbody>\n",
              "    <tr>\n",
              "      <th>0</th>\n",
              "      <td>842</td>\n",
              "      <td>0</td>\n",
              "      <td>0</td>\n",
              "      <td>1</td>\n",
              "      <td>0</td>\n",
              "      <td>7</td>\n",
              "      <td>0.6</td>\n",
              "      <td>2</td>\n",
              "      <td>2</td>\n",
              "      <td>20</td>\n",
              "      <td>756</td>\n",
              "      <td>2549</td>\n",
              "      <td>9</td>\n",
              "      <td>7</td>\n",
              "      <td>19</td>\n",
              "      <td>0</td>\n",
              "      <td>1</td>\n",
              "      <td>1</td>\n",
              "    </tr>\n",
              "    <tr>\n",
              "      <th>1</th>\n",
              "      <td>1021</td>\n",
              "      <td>1</td>\n",
              "      <td>1</td>\n",
              "      <td>0</td>\n",
              "      <td>1</td>\n",
              "      <td>53</td>\n",
              "      <td>0.7</td>\n",
              "      <td>3</td>\n",
              "      <td>6</td>\n",
              "      <td>905</td>\n",
              "      <td>1988</td>\n",
              "      <td>2631</td>\n",
              "      <td>17</td>\n",
              "      <td>3</td>\n",
              "      <td>7</td>\n",
              "      <td>1</td>\n",
              "      <td>0</td>\n",
              "      <td>2</td>\n",
              "    </tr>\n",
              "    <tr>\n",
              "      <th>2</th>\n",
              "      <td>563</td>\n",
              "      <td>1</td>\n",
              "      <td>1</td>\n",
              "      <td>2</td>\n",
              "      <td>1</td>\n",
              "      <td>41</td>\n",
              "      <td>0.9</td>\n",
              "      <td>5</td>\n",
              "      <td>6</td>\n",
              "      <td>1263</td>\n",
              "      <td>1716</td>\n",
              "      <td>2603</td>\n",
              "      <td>11</td>\n",
              "      <td>2</td>\n",
              "      <td>9</td>\n",
              "      <td>1</td>\n",
              "      <td>0</td>\n",
              "      <td>2</td>\n",
              "    </tr>\n",
              "    <tr>\n",
              "      <th>3</th>\n",
              "      <td>615</td>\n",
              "      <td>1</td>\n",
              "      <td>0</td>\n",
              "      <td>0</td>\n",
              "      <td>0</td>\n",
              "      <td>10</td>\n",
              "      <td>0.8</td>\n",
              "      <td>6</td>\n",
              "      <td>9</td>\n",
              "      <td>1216</td>\n",
              "      <td>1786</td>\n",
              "      <td>2769</td>\n",
              "      <td>16</td>\n",
              "      <td>8</td>\n",
              "      <td>11</td>\n",
              "      <td>1</td>\n",
              "      <td>0</td>\n",
              "      <td>2</td>\n",
              "    </tr>\n",
              "    <tr>\n",
              "      <th>4</th>\n",
              "      <td>1821</td>\n",
              "      <td>1</td>\n",
              "      <td>0</td>\n",
              "      <td>13</td>\n",
              "      <td>1</td>\n",
              "      <td>44</td>\n",
              "      <td>0.6</td>\n",
              "      <td>2</td>\n",
              "      <td>14</td>\n",
              "      <td>1208</td>\n",
              "      <td>1212</td>\n",
              "      <td>1411</td>\n",
              "      <td>8</td>\n",
              "      <td>2</td>\n",
              "      <td>15</td>\n",
              "      <td>1</td>\n",
              "      <td>0</td>\n",
              "      <td>1</td>\n",
              "    </tr>\n",
              "  </tbody>\n",
              "</table>\n",
              "</div>"
            ],
            "text/plain": [
              "   battery_power  blue  dual_sim  fc  four_g  int_memory  m_dep  n_cores  pc  \\\n",
              "0            842     0         0   1       0           7    0.6        2   2   \n",
              "1           1021     1         1   0       1          53    0.7        3   6   \n",
              "2            563     1         1   2       1          41    0.9        5   6   \n",
              "3            615     1         0   0       0          10    0.8        6   9   \n",
              "4           1821     1         0  13       1          44    0.6        2  14   \n",
              "\n",
              "   px_height  px_width   ram  sc_h  sc_w  talk_time  three_g  wifi  \\\n",
              "0         20       756  2549     9     7         19        0     1   \n",
              "1        905      1988  2631    17     3          7        1     0   \n",
              "2       1263      1716  2603    11     2          9        1     0   \n",
              "3       1216      1786  2769    16     8         11        1     0   \n",
              "4       1208      1212  1411     8     2         15        1     0   \n",
              "\n",
              "   price_range  \n",
              "0            1  \n",
              "1            2  \n",
              "2            2  \n",
              "3            2  \n",
              "4            1  "
            ]
          },
          "execution_count": 192,
          "metadata": {},
          "output_type": "execute_result"
        }
      ],
      "source": [
        "data.head()"
      ]
    },
    {
      "cell_type": "markdown",
      "metadata": {
        "id": "MrdAOOuUi42M"
      },
      "source": [
        "## 2. Data Preprocessing"
      ]
    },
    {
      "cell_type": "markdown",
      "metadata": {
        "id": "u8lk9Qtei42M"
      },
      "source": [
        "### 2.1 Data Normalisetion & Train Test Split"
      ]
    },
    {
      "cell_type": "markdown",
      "metadata": {
        "id": "XWlBQyTfi42M"
      },
      "source": [
        "* The cleaned normalised dataset is split into train dataset and the test dataset and we need to randomly shuffle the data set"
      ]
    },
    {
      "cell_type": "code",
      "execution_count": 193,
      "metadata": {
        "id": "vX4Ebvifi42M"
      },
      "outputs": [],
      "source": [
        "X = data.copy().drop(columns=['price_range'])\n",
        "scaler = StandardScaler()\n",
        "df_standardized = scaler.fit_transform(X)\n",
        "df_standardized = pd.DataFrame(df_standardized, columns=X.columns)"
      ]
    },
    {
      "cell_type": "markdown",
      "metadata": {},
      "source": [
        "* The current allocation is 75% for training and 25% for testing is not ideal and can lead to insufficient training data and unreliable model evaluation.\n",
        "\n",
        "```py\n",
        "data = data.sample(frac=1, random_state=42).reset_index(drop=True)\n",
        "x_ex1 = df_standardized\n",
        "y_ex1 = data.copy()['price_range']\n",
        "x_ex1_array = x_ex1.values\n",
        "y_ex1_array = y_ex1.values\n",
        "x_train = x_ex1_array[0:int((len(y_ex1_array)+1)*0.75),:]\n",
        "x_test = x_ex1_array[int((len(y_ex1_array)+1)*0.75):,:]\n",
        "y_train = y_ex1_array[0:int((len(y_ex1_array)+1)*0.75)]\n",
        "y_test = y_ex1_array[int((len(y_ex1_array)+1)*0.75):]\n",
        "```"
      ]
    },
    {
      "cell_type": "markdown",
      "metadata": {},
      "source": [
        "* In this revised version, I allocate 80% of the data for training and 20% for testing\n"
      ]
    },
    {
      "cell_type": "code",
      "execution_count": 194,
      "metadata": {},
      "outputs": [],
      "source": [
        "X = df_standardized\n",
        "y = data['price_range']\n",
        "X_train, X_test, y_train, y_test = train_test_split(X, y, test_size=0.2, stratify=y, random_state=42)"
      ]
    },
    {
      "cell_type": "markdown",
      "metadata": {
        "id": "iAzBtvWGi42M"
      },
      "source": [
        "## 3. Neural Network\n",
        "* We will train a neural network model to predict the price range target variable based on the cleaned and normalised  dataset."
      ]
    },
    {
      "cell_type": "markdown",
      "metadata": {
        "id": "UJ09yTXHi42N"
      },
      "source": [
        "### 3.1 Model generation"
      ]
    },
    {
      "cell_type": "markdown",
      "metadata": {
        "id": "i342uXTni42N"
      },
      "source": [
        "* We firstly use the test loss and  accuracy to evaluate the performance of the trained neural network model.\n",
        "* From evaluation results, we can observe that:\n",
        "\n",
        "```py\n",
        "def my_logloss(true_label, predicted):\n",
        "    b = np.zeros((true_label.size,true_label.max()+1))\n",
        "    b[:,true_label] = 1\n",
        "    N = predicted.shape[0]\n",
        "    ce = -np.sum(b * np.log(predicted)) / N\n",
        "    return ce\n",
        "\n",
        "mlp = MLPClassifier(\n",
        "    solver='sgd',\n",
        "    activation='identity',\n",
        "    random_state=42,\n",
        "    hidden_layer_sizes=(20,10,5),\n",
        "    learning_rate_init=0.001,\n",
        "    learning_rate='constant',\n",
        "    max_iter=1,\n",
        ")\n",
        "\n",
        "\"\"\" Home-made mini-batch learning\n",
        "    -> not to be used in out-of-core setting!\n",
        "\"\"\"\n",
        "N_TRAIN_SAMPLES = x_train.shape[0]\n",
        "N_EPOCHS = 25\n",
        "N_BATCH = 20\n",
        "N_CLASSES = np.unique(y_train)\n",
        "\n",
        "scores_train = []\n",
        "scores_test = []\n",
        "train_loss = []\n",
        "test_loss = []\n",
        "\n",
        "# epoch\n",
        "epoch = 0\n",
        "while epoch < N_EPOCHS:\n",
        "    # shuffing\n",
        "    random_perm = np.random.permutation(x_train.shape[0])\n",
        "    mini_batch_index = 0\n",
        "    while True:\n",
        "        # mini-batch\n",
        "        indices = random_perm[mini_batch_index:mini_batch_index + N_BATCH]\n",
        "        mlp.partial_fit(x_train[indices], y_train[indices], classes=N_CLASSES)\n",
        "        mini_batch_index += N_BATCH\n",
        "\n",
        "        if mini_batch_index >= N_TRAIN_SAMPLES:\n",
        "            break\n",
        "\n",
        "     # test record\n",
        "    scores_test.append(mlp.score(x_test, y_test))\n",
        "    y_pred = mlp.predict_proba(x_test)\n",
        "    test_error = my_logloss(y_test, y_pred)\n",
        "    test_loss.append(test_error)\n",
        "\n",
        "    epoch += 1\n",
        "# plot\n",
        "plt.plot(test_loss,label='test loss')\n",
        "plt.legend([ 'test loss'])\n",
        "plt.xlabel('epoch')\n",
        "plt.ylabel('Loss')\n",
        "plt.show()\n",
        "\n",
        "# plot\n",
        "plt.plot(scores_test,label='test accuracy')\n",
        "plt.legend([ 'test accuracy'])\n",
        "plt.xlabel('epoch')\n",
        "plt.ylabel('Accuracy')\n",
        "plt.show()\n",
        "```"
      ]
    },
    {
      "cell_type": "markdown",
      "metadata": {},
      "source": [
        "\n",
        "1) The model performance is not stable.\n",
        "2) As the number of iterations increases, the loss continues to decrease, but the accuracy is fluctuated.\n",
        "\n",
        "So that in this revised version, there are some modifications to the training process:\n",
        "\n",
        "1. Use a non-linear activation function:\n",
        "   - Change `activation='identity'` to `activation='relu'` or `activation='tanh'` to introduce non-linearity in the model and capture complex patterns in the data.\n",
        "\n",
        "2. Use a more efficient solver and learning rate schedule:\n",
        "   - Change `solver='sgd'` to `solver='adam'` to use the Adam optimizer, which adapts the learning rate for each parameter and often converges faster.\n",
        "   - Remove `learning_rate='constant'` and let the solver handle the learning rate schedule automatically.\n",
        "\n",
        "3. Increase the number of iterations:\n",
        "   - Increase `max_iter=1` to a higher value, such as `max_iter=200`, to allow the model to train for more iterations and potentially improve its performance.\n",
        "\n",
        "4. Monitor the training loss:\n",
        "   - Add code to calculate and store the training loss in each epoch.\n",
        "   - Plot both the training and test loss to observe how the model is learning and identify any potential overfitting or underfitting.\n",
        "\n",
        "5. Use early stopping:\n",
        "   - Implement early stopping to prevent overfitting and find the optimal number of epochs.\n",
        "   - Monitor the validation loss and stop training if the loss starts to increase or plateaus."
      ]
    },
    {
      "cell_type": "code",
      "execution_count": 195,
      "metadata": {},
      "outputs": [
        {
          "name": "stdout",
          "output_type": "stream",
          "text": [
            "Early stopping at epoch 11\n"
          ]
        }
      ],
      "source": [
        "def my_logloss(true_label, predicted):\n",
        "    b = np.zeros((true_label.size, true_label.max() + 1))\n",
        "    b[:, true_label] = 1\n",
        "    N = predicted.shape[0]\n",
        "    ce = -np.sum(b * np.log(predicted)) / N\n",
        "    return ce\n",
        "\n",
        "mlp = MLPClassifier(\n",
        "    solver='adam',\n",
        "    activation='relu',\n",
        "    random_state=42,\n",
        "    hidden_layer_sizes=(20, 10, 5),\n",
        "    learning_rate_init=0.001,\n",
        "    max_iter=200,\n",
        ")\n",
        "\n",
        "N_TRAIN_SAMPLES = X_train.shape[0]\n",
        "N_EPOCHS = 25\n",
        "N_BATCH = 20\n",
        "N_CLASSES = np.unique(y_train)\n",
        "\n",
        "scores_train = []\n",
        "scores_test = []\n",
        "train_loss = []\n",
        "test_loss = []\n",
        "\n",
        "best_test_loss = float('inf')\n",
        "best_epoch = 0\n",
        "\n",
        "epoch = 0\n",
        "while epoch < N_EPOCHS:\n",
        "    random_perm = np.random.permutation(X_train.shape[0])\n",
        "    mini_batch_index = 0\n",
        "    while True:\n",
        "        indices = random_perm[mini_batch_index:mini_batch_index + N_BATCH]\n",
        "        mlp.partial_fit(X_train.iloc[indices], y_train.iloc[indices], classes=N_CLASSES)\n",
        "        mini_batch_index += N_BATCH\n",
        "\n",
        "        if mini_batch_index >= N_TRAIN_SAMPLES:\n",
        "            break\n",
        "\n",
        "    scores_train.append(mlp.score(X_train, y_train))\n",
        "    train_pred = mlp.predict_proba(X_train)\n",
        "    train_error = my_logloss(y_train, train_pred)\n",
        "    train_loss.append(train_error)\n",
        "\n",
        "    scores_test.append(mlp.score(X_test, y_test))\n",
        "    y_pred = mlp.predict_proba(X_test)\n",
        "    test_error = my_logloss(y_test, y_pred)\n",
        "    test_loss.append(test_error)\n",
        "\n",
        "    if test_error < best_test_loss:\n",
        "        best_test_loss = test_error\n",
        "        best_epoch = epoch\n",
        "\n",
        "    epoch += 1\n",
        "\n",
        "    if epoch - best_epoch >= 10:\n",
        "        print(f\"Early stopping at epoch {epoch}\")\n",
        "        break"
      ]
    },
    {
      "cell_type": "code",
      "execution_count": 196,
      "metadata": {},
      "outputs": [
        {
          "data": {
            "image/png": "[encoded data removed]",
            "text/plain": [
              "<Figure size 640x480 with 1 Axes>"
            ]
          },
          "metadata": {},
          "output_type": "display_data"
        }
      ],
      "source": [
        "# Plot training and test loss\n",
        "plt.plot(train_loss, label='Training Loss')\n",
        "plt.plot(test_loss, label='Test Loss')\n",
        "plt.legend(['Training Loss', 'Test Loss'])\n",
        "plt.xlabel('Epoch')\n",
        "plt.ylabel('Loss')\n",
        "plt.show()"
      ]
    },
    {
      "cell_type": "code",
      "execution_count": 197,
      "metadata": {},
      "outputs": [
        {
          "data": {
            "image/png": "[encoded data removed]",
            "text/plain": [
              "<Figure size 640x480 with 1 Axes>"
            ]
          },
          "metadata": {},
          "output_type": "display_data"
        }
      ],
      "source": [
        "# Plot training and test accuracy\n",
        "plt.plot(scores_train, label='Training Accuracy')\n",
        "plt.plot(scores_test, label='Test Accuracy')\n",
        "plt.legend(['Training Accuracy', 'Test Accuracy'])\n",
        "plt.xlabel('Epoch')\n",
        "plt.ylabel('Accuracy')\n",
        "plt.show()"
      ]
    },
    {
      "cell_type": "markdown",
      "metadata": {
        "id": "v84-BKwMi42N"
      },
      "source": [
        "### 3.2 Model evaluation\n",
        "* We further evaluate the model performance by using more metrics such as precision, recall and f1-score"
      ]
    },
    {
      "cell_type": "code",
      "execution_count": 198,
      "metadata": {
        "colab": {
          "base_uri": "https://localhost:8080/"
        },
        "id": "R-N0I5cqi42N",
        "outputId": "b66ac289-689c-47ca-b0cc-36f1688abe34"
      },
      "outputs": [
        {
          "name": "stdout",
          "output_type": "stream",
          "text": [
            "Classification Report:\n",
            "              precision    recall  f1-score   support\n",
            "\n",
            "           0       0.89      0.98      0.93       100\n",
            "           1       0.87      0.84      0.85       100\n",
            "           2       0.91      0.77      0.83       100\n",
            "           3       0.89      0.96      0.92       100\n",
            "\n",
            "    accuracy                           0.89       400\n",
            "   macro avg       0.89      0.89      0.89       400\n",
            "weighted avg       0.89      0.89      0.89       400\n",
            "\n"
          ]
        }
      ],
      "source": [
        "y_pred = mlp.predict(X_test)\n",
        "report = classification_report(y_test, y_pred)\n",
        "print(\"Classification Report:\")\n",
        "print(report)"
      ]
    },
    {
      "cell_type": "code",
      "execution_count": 199,
      "metadata": {
        "colab": {
          "base_uri": "https://localhost:8080/",
          "height": 572
        },
        "id": "YxN7Wf-Ki42N",
        "outputId": "df0c24ce-d54f-47e2-dead-630fbd592f08"
      },
      "outputs": [
        {
          "name": "stdout",
          "output_type": "stream",
          "text": [
            "Confusion Matrix:\n",
            "[[98  2  0  0]\n",
            " [12 84  4  0]\n",
            " [ 0 11 77 12]\n",
            " [ 0  0  4 96]]\n"
          ]
        },
        {
          "data": {
            "image/png": "[encoded data removed]",
            "text/plain": [
              "<Figure size 640x480 with 2 Axes>"
            ]
          },
          "metadata": {},
          "output_type": "display_data"
        }
      ],
      "source": [
        "y_pred = mlp.predict(X_test)\n",
        "cm = confusion_matrix(y_test, y_pred)\n",
        "print(\"Confusion Matrix:\")\n",
        "print(cm)\n",
        "\n",
        "disp = ConfusionMatrixDisplay(confusion_matrix=cm,display_labels=mlp.classes_)\n",
        "disp.plot()\n",
        "plt.show()"
      ]
    },
    {
      "cell_type": "markdown",
      "metadata": {
        "id": "Z7UhcASRi42N"
      },
      "source": [
        "## 4. Decision Tree\n",
        "* Now, we train the second model, decision tree model, to predict the mobile price range, to see which model can provide better performance."
      ]
    },
    {
      "cell_type": "markdown",
      "metadata": {
        "id": "2UpGrokQi42N"
      },
      "source": [
        "### 4.1 Model generation"
      ]
    },
    {
      "cell_type": "code",
      "execution_count": 200,
      "metadata": {
        "colab": {
          "base_uri": "https://localhost:8080/",
          "height": 74
        },
        "id": "l-bE-0Upi42N",
        "outputId": "550ab16e-3124-4d7a-bb18-d53bb8532ce2"
      },
      "outputs": [
        {
          "data": {
            "text/html": [
              "<style>#sk-container-id-9 {\n",
              "  /* Definition of color scheme common for light and dark mode */\n",
              "  --sklearn-color-text: black;\n",
              "  --sklearn-color-line: gray;\n",
              "  /* Definition of color scheme for unfitted estimators */\n",
              "  --sklearn-color-unfitted-level-0: #fff5e6;\n",
              "  --sklearn-color-unfitted-level-1: #f6e4d2;\n",
              "  --sklearn-color-unfitted-level-2: #ffe0b3;\n",
              "  --sklearn-color-unfitted-level-3: chocolate;\n",
              "  /* Definition of color scheme for fitted estimators */\n",
              "  --sklearn-color-fitted-level-0: #f0f8ff;\n",
              "  --sklearn-color-fitted-level-1: #d4ebff;\n",
              "  --sklearn-color-fitted-level-2: #b3dbfd;\n",
              "  --sklearn-color-fitted-level-3: cornflowerblue;\n",
              "\n",
              "  /* Specific color for light theme */\n",
              "  --sklearn-color-text-on-default-background: var(--sg-text-color, var(--theme-code-foreground, var(--jp-content-font-color1, black)));\n",
              "  --sklearn-color-background: var(--sg-background-color, var(--theme-background, var(--jp-layout-color0, white)));\n",
              "  --sklearn-color-border-box: var(--sg-text-color, var(--theme-code-foreground, var(--jp-content-font-color1, black)));\n",
              "  --sklearn-color-icon: #696969;\n",
              "\n",
              "  @media (prefers-color-scheme: dark) {\n",
              "    /* Redefinition of color scheme for dark theme */\n",
              "    --sklearn-color-text-on-default-background: var(--sg-text-color, var(--theme-code-foreground, var(--jp-content-font-color1, white)));\n",
              "    --sklearn-color-background: var(--sg-background-color, var(--theme-background, var(--jp-layout-color0, #111)));\n",
              "    --sklearn-color-border-box: var(--sg-text-color, var(--theme-code-foreground, var(--jp-content-font-color1, white)));\n",
              "    --sklearn-color-icon: #878787;\n",
              "  }\n",
              "}\n",
              "\n",
              "#sk-container-id-9 {\n",
              "  color: var(--sklearn-color-text);\n",
              "}\n",
              "\n",
              "#sk-container-id-9 pre {\n",
              "  padding: 0;\n",
              "}\n",
              "\n",
              "#sk-container-id-9 input.sk-hidden--visually {\n",
              "  border: 0;\n",
              "  clip: rect(1px 1px 1px 1px);\n",
              "  clip: rect(1px, 1px, 1px, 1px);\n",
              "  height: 1px;\n",
              "  margin: -1px;\n",
              "  overflow: hidden;\n",
              "  padding: 0;\n",
              "  position: absolute;\n",
              "  width: 1px;\n",
              "}\n",
              "\n",
              "#sk-container-id-9 div.sk-dashed-wrapped {\n",
              "  border: 1px dashed var(--sklearn-color-line);\n",
              "  margin: 0 0.4em 0.5em 0.4em;\n",
              "  box-sizing: border-box;\n",
              "  padding-bottom: 0.4em;\n",
              "  background-color: var(--sklearn-color-background);\n",
              "}\n",
              "\n",
              "#sk-container-id-9 div.sk-container {\n",
              "  /* jupyter's `normalize.less` sets `[hidden] { display: none; }`\n",
              "     but bootstrap.min.css set `[hidden] { display: none !important; }`\n",
              "     so we also need the `!important` here to be able to override the\n",
              "     default hidden behavior on the sphinx rendered scikit-learn.org.\n",
              "     See: https://github.com/scikit-learn/scikit-learn/issues/21755 */\n",
              "  display: inline-block !important;\n",
              "  position: relative;\n",
              "}\n",
              "\n",
              "#sk-container-id-9 div.sk-text-repr-fallback {\n",
              "  display: none;\n",
              "}\n",
              "\n",
              "div.sk-parallel-item,\n",
              "div.sk-serial,\n",
              "div.sk-item {\n",
              "  /* draw centered vertical line to link estimators */\n",
              "  background-image: linear-gradient(var(--sklearn-color-text-on-default-background), var(--sklearn-color-text-on-default-background));\n",
              "  background-size: 2px 100%;\n",
              "  background-repeat: no-repeat;\n",
              "  background-position: center center;\n",
              "}\n",
              "\n",
              "/* Parallel-specific style estimator block */\n",
              "\n",
              "#sk-container-id-9 div.sk-parallel-item::after {\n",
              "  content: \"\";\n",
              "  width: 100%;\n",
              "  border-bottom: 2px solid var(--sklearn-color-text-on-default-background);\n",
              "  flex-grow: 1;\n",
              "}\n",
              "\n",
              "#sk-container-id-9 div.sk-parallel {\n",
              "  display: flex;\n",
              "  align-items: stretch;\n",
              "  justify-content: center;\n",
              "  background-color: var(--sklearn-color-background);\n",
              "  position: relative;\n",
              "}\n",
              "\n",
              "#sk-container-id-9 div.sk-parallel-item {\n",
              "  display: flex;\n",
              "  flex-direction: column;\n",
              "}\n",
              "\n",
              "#sk-container-id-9 div.sk-parallel-item:first-child::after {\n",
              "  align-self: flex-end;\n",
              "  width: 50%;\n",
              "}\n",
              "\n",
              "#sk-container-id-9 div.sk-parallel-item:last-child::after {\n",
              "  align-self: flex-start;\n",
              "  width: 50%;\n",
              "}\n",
              "\n",
              "#sk-container-id-9 div.sk-parallel-item:only-child::after {\n",
              "  width: 0;\n",
              "}\n",
              "\n",
              "/* Serial-specific style estimator block */\n",
              "\n",
              "#sk-container-id-9 div.sk-serial {\n",
              "  display: flex;\n",
              "  flex-direction: column;\n",
              "  align-items: center;\n",
              "  background-color: var(--sklearn-color-background);\n",
              "  padding-right: 1em;\n",
              "  padding-left: 1em;\n",
              "}\n",
              "\n",
              "\n",
              "/* Toggleable style: style used for estimator/Pipeline/ColumnTransformer box that is\n",
              "clickable and can be expanded/collapsed.\n",
              "- Pipeline and ColumnTransformer use this feature and define the default style\n",
              "- Estimators will overwrite some part of the style using the `sk-estimator` class\n",
              "*/\n",
              "\n",
              "/* Pipeline and ColumnTransformer style (default) */\n",
              "\n",
              "#sk-container-id-9 div.sk-toggleable {\n",
              "  /* Default theme specific background. It is overwritten whether we have a\n",
              "  specific estimator or a Pipeline/ColumnTransformer */\n",
              "  background-color: var(--sklearn-color-background);\n",
              "}\n",
              "\n",
              "/* Toggleable label */\n",
              "#sk-container-id-9 label.sk-toggleable__label {\n",
              "  cursor: pointer;\n",
              "  display: block;\n",
              "  width: 100%;\n",
              "  margin-bottom: 0;\n",
              "  padding: 0.5em;\n",
              "  box-sizing: border-box;\n",
              "  text-align: center;\n",
              "}\n",
              "\n",
              "#sk-container-id-9 label.sk-toggleable__label-arrow:before {\n",
              "  /* Arrow on the left of the label */\n",
              "  content: \"▸\";\n",
              "  float: left;\n",
              "  margin-right: 0.25em;\n",
              "  color: var(--sklearn-color-icon);\n",
              "}\n",
              "\n",
              "#sk-container-id-9 label.sk-toggleable__label-arrow:hover:before {\n",
              "  color: var(--sklearn-color-text);\n",
              "}\n",
              "\n",
              "/* Toggleable content - dropdown */\n",
              "\n",
              "#sk-container-id-9 div.sk-toggleable__content {\n",
              "  max-height: 0;\n",
              "  max-width: 0;\n",
              "  overflow: hidden;\n",
              "  text-align: left;\n",
              "  /* unfitted */\n",
              "  background-color: var(--sklearn-color-unfitted-level-0);\n",
              "}\n",
              "\n",
              "#sk-container-id-9 div.sk-toggleable__content.fitted {\n",
              "  /* fitted */\n",
              "  background-color: var(--sklearn-color-fitted-level-0);\n",
              "}\n",
              "\n",
              "#sk-container-id-9 div.sk-toggleable__content pre {\n",
              "  margin: 0.2em;\n",
              "  border-radius: 0.25em;\n",
              "  color: var(--sklearn-color-text);\n",
              "  /* unfitted */\n",
              "  background-color: var(--sklearn-color-unfitted-level-0);\n",
              "}\n",
              "\n",
              "#sk-container-id-9 div.sk-toggleable__content.fitted pre {\n",
              "  /* unfitted */\n",
              "  background-color: var(--sklearn-color-fitted-level-0);\n",
              "}\n",
              "\n",
              "#sk-container-id-9 input.sk-toggleable__control:checked~div.sk-toggleable__content {\n",
              "  /* Expand drop-down */\n",
              "  max-height: 200px;\n",
              "  max-width: 100%;\n",
              "  overflow: auto;\n",
              "}\n",
              "\n",
              "#sk-container-id-9 input.sk-toggleable__control:checked~label.sk-toggleable__label-arrow:before {\n",
              "  content: \"▾\";\n",
              "}\n",
              "\n",
              "/* Pipeline/ColumnTransformer-specific style */\n",
              "\n",
              "#sk-container-id-9 div.sk-label input.sk-toggleable__control:checked~label.sk-toggleable__label {\n",
              "  color: var(--sklearn-color-text);\n",
              "  background-color: var(--sklearn-color-unfitted-level-2);\n",
              "}\n",
              "\n",
              "#sk-container-id-9 div.sk-label.fitted input.sk-toggleable__control:checked~label.sk-toggleable__label {\n",
              "  background-color: var(--sklearn-color-fitted-level-2);\n",
              "}\n",
              "\n",
              "/* Estimator-specific style */\n",
              "\n",
              "/* Colorize estimator box */\n",
              "#sk-container-id-9 div.sk-estimator input.sk-toggleable__control:checked~label.sk-toggleable__label {\n",
              "  /* unfitted */\n",
              "  background-color: var(--sklearn-color-unfitted-level-2);\n",
              "}\n",
              "\n",
              "#sk-container-id-9 div.sk-estimator.fitted input.sk-toggleable__control:checked~label.sk-toggleable__label {\n",
              "  /* fitted */\n",
              "  background-color: var(--sklearn-color-fitted-level-2);\n",
              "}\n",
              "\n",
              "#sk-container-id-9 div.sk-label label.sk-toggleable__label,\n",
              "#sk-container-id-9 div.sk-label label {\n",
              "  /* The background is the default theme color */\n",
              "  color: var(--sklearn-color-text-on-default-background);\n",
              "}\n",
              "\n",
              "/* On hover, darken the color of the background */\n",
              "#sk-container-id-9 div.sk-label:hover label.sk-toggleable__label {\n",
              "  color: var(--sklearn-color-text);\n",
              "  background-color: var(--sklearn-color-unfitted-level-2);\n",
              "}\n",
              "\n",
              "/* Label box, darken color on hover, fitted */\n",
              "#sk-container-id-9 div.sk-label.fitted:hover label.sk-toggleable__label.fitted {\n",
              "  color: var(--sklearn-color-text);\n",
              "  background-color: var(--sklearn-color-fitted-level-2);\n",
              "}\n",
              "\n",
              "/* Estimator label */\n",
              "\n",
              "#sk-container-id-9 div.sk-label label {\n",
              "  font-family: monospace;\n",
              "  font-weight: bold;\n",
              "  display: inline-block;\n",
              "  line-height: 1.2em;\n",
              "}\n",
              "\n",
              "#sk-container-id-9 div.sk-label-container {\n",
              "  text-align: center;\n",
              "}\n",
              "\n",
              "/* Estimator-specific */\n",
              "#sk-container-id-9 div.sk-estimator {\n",
              "  font-family: monospace;\n",
              "  border: 1px dotted var(--sklearn-color-border-box);\n",
              "  border-radius: 0.25em;\n",
              "  box-sizing: border-box;\n",
              "  margin-bottom: 0.5em;\n",
              "  /* unfitted */\n",
              "  background-color: var(--sklearn-color-unfitted-level-0);\n",
              "}\n",
              "\n",
              "#sk-container-id-9 div.sk-estimator.fitted {\n",
              "  /* fitted */\n",
              "  background-color: var(--sklearn-color-fitted-level-0);\n",
              "}\n",
              "\n",
              "/* on hover */\n",
              "#sk-container-id-9 div.sk-estimator:hover {\n",
              "  /* unfitted */\n",
              "  background-color: var(--sklearn-color-unfitted-level-2);\n",
              "}\n",
              "\n",
              "#sk-container-id-9 div.sk-estimator.fitted:hover {\n",
              "  /* fitted */\n",
              "  background-color: var(--sklearn-color-fitted-level-2);\n",
              "}\n",
              "\n",
              "/* Specification for estimator info (e.g. \"i\" and \"?\") */\n",
              "\n",
              "/* Common style for \"i\" and \"?\" */\n",
              "\n",
              ".sk-estimator-doc-link,\n",
              "a:link.sk-estimator-doc-link,\n",
              "a:visited.sk-estimator-doc-link {\n",
              "  float: right;\n",
              "  font-size: smaller;\n",
              "  line-height: 1em;\n",
              "  font-family: monospace;\n",
              "  background-color: var(--sklearn-color-background);\n",
              "  border-radius: 1em;\n",
              "  height: 1em;\n",
              "  width: 1em;\n",
              "  text-decoration: none !important;\n",
              "  margin-left: 1ex;\n",
              "  /* unfitted */\n",
              "  border: var(--sklearn-color-unfitted-level-1) 1pt solid;\n",
              "  color: var(--sklearn-color-unfitted-level-1);\n",
              "}\n",
              "\n",
              ".sk-estimator-doc-link.fitted,\n",
              "a:link.sk-estimator-doc-link.fitted,\n",
              "a:visited.sk-estimator-doc-link.fitted {\n",
              "  /* fitted */\n",
              "  border: var(--sklearn-color-fitted-level-1) 1pt solid;\n",
              "  color: var(--sklearn-color-fitted-level-1);\n",
              "}\n",
              "\n",
              "/* On hover */\n",
              "div.sk-estimator:hover .sk-estimator-doc-link:hover,\n",
              ".sk-estimator-doc-link:hover,\n",
              "div.sk-label-container:hover .sk-estimator-doc-link:hover,\n",
              ".sk-estimator-doc-link:hover {\n",
              "  /* unfitted */\n",
              "  background-color: var(--sklearn-color-unfitted-level-3);\n",
              "  color: var(--sklearn-color-background);\n",
              "  text-decoration: none;\n",
              "}\n",
              "\n",
              "div.sk-estimator.fitted:hover .sk-estimator-doc-link.fitted:hover,\n",
              ".sk-estimator-doc-link.fitted:hover,\n",
              "div.sk-label-container:hover .sk-estimator-doc-link.fitted:hover,\n",
              ".sk-estimator-doc-link.fitted:hover {\n",
              "  /* fitted */\n",
              "  background-color: var(--sklearn-color-fitted-level-3);\n",
              "  color: var(--sklearn-color-background);\n",
              "  text-decoration: none;\n",
              "}\n",
              "\n",
              "/* Span, style for the box shown on hovering the info icon */\n",
              ".sk-estimator-doc-link span {\n",
              "  display: none;\n",
              "  z-index: 9999;\n",
              "  position: relative;\n",
              "  font-weight: normal;\n",
              "  right: .2ex;\n",
              "  padding: .5ex;\n",
              "  margin: .5ex;\n",
              "  width: min-content;\n",
              "  min-width: 20ex;\n",
              "  max-width: 50ex;\n",
              "  color: var(--sklearn-color-text);\n",
              "  box-shadow: 2pt 2pt 4pt #999;\n",
              "  /* unfitted */\n",
              "  background: var(--sklearn-color-unfitted-level-0);\n",
              "  border: .5pt solid var(--sklearn-color-unfitted-level-3);\n",
              "}\n",
              "\n",
              ".sk-estimator-doc-link.fitted span {\n",
              "  /* fitted */\n",
              "  background: var(--sklearn-color-fitted-level-0);\n",
              "  border: var(--sklearn-color-fitted-level-3);\n",
              "}\n",
              "\n",
              ".sk-estimator-doc-link:hover span {\n",
              "  display: block;\n",
              "}\n",
              "\n",
              "/* \"?\"-specific style due to the `<a>` HTML tag */\n",
              "\n",
              "#sk-container-id-9 a.estimator_doc_link {\n",
              "  float: right;\n",
              "  font-size: 1rem;\n",
              "  line-height: 1em;\n",
              "  font-family: monospace;\n",
              "  background-color: var(--sklearn-color-background);\n",
              "  border-radius: 1rem;\n",
              "  height: 1rem;\n",
              "  width: 1rem;\n",
              "  text-decoration: none;\n",
              "  /* unfitted */\n",
              "  color: var(--sklearn-color-unfitted-level-1);\n",
              "  border: var(--sklearn-color-unfitted-level-1) 1pt solid;\n",
              "}\n",
              "\n",
              "#sk-container-id-9 a.estimator_doc_link.fitted {\n",
              "  /* fitted */\n",
              "  border: var(--sklearn-color-fitted-level-1) 1pt solid;\n",
              "  color: var(--sklearn-color-fitted-level-1);\n",
              "}\n",
              "\n",
              "/* On hover */\n",
              "#sk-container-id-9 a.estimator_doc_link:hover {\n",
              "  /* unfitted */\n",
              "  background-color: var(--sklearn-color-unfitted-level-3);\n",
              "  color: var(--sklearn-color-background);\n",
              "  text-decoration: none;\n",
              "}\n",
              "\n",
              "#sk-container-id-9 a.estimator_doc_link.fitted:hover {\n",
              "  /* fitted */\n",
              "  background-color: var(--sklearn-color-fitted-level-3);\n",
              "}\n",
              "</style><div id=\"sk-container-id-9\" class=\"sk-top-container\"><div class=\"sk-text-repr-fallback\"><pre>DecisionTreeClassifier(min_samples_leaf=3, min_samples_split=5)</pre><b>In a Jupyter environment, please rerun this cell to show the HTML representation or trust the notebook. <br />On GitHub, the HTML representation is unable to render, please try loading this page with nbviewer.org.</b></div><div class=\"sk-container\" hidden><div class=\"sk-item\"><div class=\"sk-estimator fitted sk-toggleable\"><input class=\"sk-toggleable__control sk-hidden--visually\" id=\"sk-estimator-id-9\" type=\"checkbox\" checked><label for=\"sk-estimator-id-9\" class=\"sk-toggleable__label fitted sk-toggleable__label-arrow fitted\">&nbsp;&nbsp;DecisionTreeClassifier<a class=\"sk-estimator-doc-link fitted\" rel=\"noreferrer\" target=\"_blank\" href=\"https://scikit-learn.org/1.4/modules/generated/sklearn.tree.DecisionTreeClassifier.html\">?<span>Documentation for DecisionTreeClassifier</span></a><span class=\"sk-estimator-doc-link fitted\">i<span>Fitted</span></span></label><div class=\"sk-toggleable__content fitted\"><pre>DecisionTreeClassifier(min_samples_leaf=3, min_samples_split=5)</pre></div> </div></div></div></div>"
            ],
            "text/plain": [
              "DecisionTreeClassifier(min_samples_leaf=3, min_samples_split=5)"
            ]
          },
          "execution_count": 200,
          "metadata": {},
          "output_type": "execute_result"
        }
      ],
      "source": [
        "tree = DecisionTreeClassifier(\n",
        "    criterion='gini',\n",
        "    max_depth=None,\n",
        "    min_samples_split=5,\n",
        "    min_samples_leaf=3,\n",
        ")\n",
        "tree.fit(X_train,y_train)"
      ]
    },
    {
      "cell_type": "markdown",
      "metadata": {
        "id": "EakDEm-Ii42N"
      },
      "source": [
        "### 4.2 Test"
      ]
    },
    {
      "cell_type": "code",
      "execution_count": 201,
      "metadata": {
        "colab": {
          "base_uri": "https://localhost:8080/",
          "height": 572
        },
        "id": "L9iyBCPbi42N",
        "outputId": "bcc7b791-7ea8-4b94-a90b-4e3a30ffe5ff"
      },
      "outputs": [
        {
          "name": "stdout",
          "output_type": "stream",
          "text": [
            "[[98  2  0  0]\n",
            " [12 84  4  0]\n",
            " [ 0 11 77 12]\n",
            " [ 0  0  4 96]]\n"
          ]
        },
        {
          "data": {
            "image/png": "[encoded data removed]",
            "text/plain": [
              "<Figure size 640x480 with 2 Axes>"
            ]
          },
          "metadata": {},
          "output_type": "display_data"
        }
      ],
      "source": [
        "cm = confusion_matrix( y_test, y_pred, labels=tree.classes_)\n",
        "print(cm)\n",
        "disp = ConfusionMatrixDisplay(confusion_matrix=cm,display_labels=tree.classes_)\n",
        "disp.plot()\n",
        "plt.show()"
      ]
    },
    {
      "cell_type": "code",
      "execution_count": 202,
      "metadata": {
        "colab": {
          "base_uri": "https://localhost:8080/"
        },
        "id": "7Mb-R2TRi42N",
        "outputId": "da53689b-43d5-40ce-83d9-463516440475"
      },
      "outputs": [
        {
          "name": "stdout",
          "output_type": "stream",
          "text": [
            "Results on the test set:\n",
            "              precision    recall  f1-score   support\n",
            "\n",
            "           0       0.93      0.93      0.93       100\n",
            "           1       0.85      0.82      0.84       100\n",
            "           2       0.77      0.85      0.81       100\n",
            "           3       0.91      0.86      0.89       100\n",
            "\n",
            "    accuracy                           0.86       400\n",
            "   macro avg       0.87      0.86      0.87       400\n",
            "weighted avg       0.87      0.86      0.87       400\n",
            "\n"
          ]
        }
      ],
      "source": [
        "tree.fit(X_train,y_train)\n",
        "y_true, y_pred = y_test , tree.predict(X_test)\n",
        "print('Results on the test set:')\n",
        "print(classification_report(y_true, y_pred))"
      ]
    },
    {
      "cell_type": "markdown",
      "metadata": {},
      "source": [
        "It's important to note that the performance of both models is relatively high, with accuracies above 85%. The decision tree model also achieves good results, especially for class 0."
      ]
    },
    {
      "cell_type": "markdown",
      "metadata": {},
      "source": [
        "## 5. Performance Comparison\n",
        "\n",
        "1. Accuracy:\n",
        "   - **Neural network**: 0.89 (89%)\n",
        "   - **Decision tree**: 0.86 (86%)\n",
        "\n",
        "   The neural network has a higher overall accuracy compared to the decision tree, indicating that it correctly predicts the price range for a larger proportion of the test samples.\n",
        "\n",
        "2. Precision:\n",
        "   - **Neural network**: 0.89, 0.87, 0.91, 0.89 (for classes 0, 1, 2, 3 respectively)\n",
        "   - **Decision tree**: 0.93, 0.85, 0.77, 0.91 (for classes 0, 1, 2, 3 respectively)\n",
        "\n",
        "   The decision tree has higher precision values for classes 0 and 3, while the neural network has higher precision for classes 1 and 2. Precision measures the proportion of true positive predictions among all positive predictions for each class.\n",
        "\n",
        "3. Recall:\n",
        "   - **Neural network**: 0.98, 0.84, 0.77, 0.96 (for classes 0, 1, 2, 3 respectively)\n",
        "   - **Decision tree**: 0.93, 0.82, 0.85, 0.86 (for classes 0, 1, 2, 3 respectively)\n",
        "\n",
        "   The neural network has higher recall values for classes 0, 1, and 3, while the decision tree has higher recall for class 2. Recall measures the proportion of true positive predictions among all actual positive instances for each class.\n",
        "\n",
        "4. F1-score:\n",
        "   - **Neural network**: 0.93, 0.85, 0.83, 0.92 (for classes 0, 1, 2, 3 respectively)\n",
        "   - **Decision tree**: 0.93, 0.84, 0.81, 0.89 (for classes 0, 1, 2, 3 respectively)\n",
        "\n",
        "   The neural network has higher F1-scores for classes 1 and 3, while the decision tree has a higher F1-score for class 2. Both models have the same F1-score for class 0. The F1-score is the harmonic mean of precision and recall, providing a balanced measure of the model's performance for each class.\n",
        "\n",
        "5. Macro and Weighted Averages:\n",
        "   - **Neural network**: Macro avg - 0.89, 0.89, 0.89 | Weighted avg - 0.89, 0.89, 0.89\n",
        "   - **Decision tree**: Macro avg - 0.87, 0.86, 0.87 | Weighted avg - 0.87, 0.86, 0.87\n",
        "\n",
        "   The neural network has slightly higher macro and weighted average scores for precision, recall, and F1-score, indicating better overall performance across all classes.\n",
        "\n",
        "In summary, the neural network model continues to outperform the decision tree model based on the updated classification reports. The neural network has higher accuracy, recall for classes 0, 1, and 3, and F1-scores for classes 1 and 3. The decision tree has higher precision for classes 0 and 3, and recall for class 2.\n",
        "\n",
        "Both models demonstrate good performance, with accuracies above 86%. The neural network's strengths lie in its higher recall for classes 0, 1, and 3, while the decision tree's strengths are in its higher precision for classes 0 and 3, and recall for class 2."
      ]
    },
    {
      "cell_type": "markdown",
      "metadata": {
        "id": "NJ8AF0STjCYZ"
      },
      "source": [
        "### 4.3 Further exploration"
      ]
    },
    {
      "cell_type": "markdown",
      "metadata": {
        "id": "IB11nkJEjGRP"
      },
      "source": [
        "Since these two models have a similar accuracy score on the test set, so we want to use another metric to compare them."
      ]
    },
    {
      "cell_type": "code",
      "execution_count": 203,
      "metadata": {
        "colab": {
          "base_uri": "https://localhost:8080/"
        },
        "id": "Pc2HBuXxaeF9",
        "outputId": "18c8cbac-0337-4282-e4e9-0f046385283c"
      },
      "outputs": [
        {
          "name": "stdout",
          "output_type": "stream",
          "text": [
            "Neural Network's Mean Squared Error: 0.1125\n",
            "Decision Tree's Mean Squared Error: 0.135\n"
          ]
        }
      ],
      "source": [
        "# NN's prediction\n",
        "nn_test = mlp.predict(X_test)\n",
        "nn_mse = mean_squared_error(y_test, nn_test)\n",
        "print(f\"Neural Network's Mean Squared Error: {nn_mse}\")\n",
        "\n",
        "# DT's prediction\n",
        "dt_test = tree.predict(X_test)\n",
        "dt_mse = mean_squared_error(y_test, dt_test)\n",
        "print(f\"Decision Tree's Mean Squared Error: {dt_mse}\")"
      ]
    },
    {
      "cell_type": "markdown",
      "metadata": {
        "id": "YzwVz_-2nNWO"
      },
      "source": [
        "* These two model's performance under MSE are quite similar and the gap is really small.\n",
        "* From that comparison, we can assert that Neural Network model is better and more powerful than that of the Decision Tree model because Neural Network model achieves a higher model accuracy."
      ]
    }
  ],
  "metadata": {
    "colab": {
      "provenance": [],
      "toc_visible": true
    },
    "interpreter": {
      "hash": "a89ca70b77bf3904d6e71dcc50960c234158b7102660c3bbb1422648282c4bd9"
    },
    "kernelspec": {
      "display_name": "Python 3 (ipykernel)",
      "language": "python",
      "name": "python3"
    },
    "language_info": {
      "codemirror_mode": {
        "name": "ipython",
        "version": 3
      },
      "file_extension": ".py",
      "mimetype": "text/x-python",
      "name": "python",
      "nbconvert_exporter": "python",
      "pygments_lexer": "ipython3",
      "version": "3.12.1"
    }
  },
  "nbformat": 4,
  "nbformat_minor": 0
}
